{
  "nbformat": 4,
  "nbformat_minor": 0,
  "metadata": {
    "colab": {
      "provenance": []
    },
    "kernelspec": {
      "name": "python3",
      "display_name": "Python 3"
    },
    "language_info": {
      "name": "python"
    }
  },
  "cells": [
    {
      "cell_type": "code",
      "source": [
        "class Accountant:\n",
        "  def __init__(self, s1, s2, sal):\n",
        "    self.s1 = s1\n",
        "    self.s2 = s2\n",
        "    self.sal = sal\n",
        "  def give_salary(self, x):\n",
        "    self.take_salary(x)"
      ],
      "metadata": {
        "id": "tq8COVZAxrJ8"
      },
      "execution_count": 161,
      "outputs": []
    },
    {
      "cell_type": "code",
      "source": [
        "class Pupa(Accountant):\n",
        "  def __init__(self, s1, s2, sal):\n",
        "    self.s1 = s1\n",
        "    self.s2 = s2\n",
        "    self.sal = sal\n",
        "  def do_work (self):\n",
        "    print(self.s1+self.s2)\n",
        "  def take_salary(self, x):\n",
        "    print(self.sal+x)"
      ],
      "metadata": {
        "id": "bYJHqc7ixq0o"
      },
      "execution_count": 162,
      "outputs": []
    },
    {
      "cell_type": "code",
      "source": [
        "Kate = Pupa (10, 20, 15)\n",
        "Kate.do_work()\n",
        "Kate.give_salary(5)"
      ],
      "metadata": {
        "colab": {
          "base_uri": "https://localhost:8080/"
        },
        "id": "ZD1T2Fyy2RPP",
        "outputId": "1161fb46-9caf-476a-b16a-3e327db28dda"
      },
      "execution_count": 163,
      "outputs": [
        {
          "output_type": "stream",
          "name": "stdout",
          "text": [
            "30\n",
            "20\n"
          ]
        }
      ]
    },
    {
      "cell_type": "code",
      "source": [
        "class Lupa(Accountant):\n",
        "  def __init__(self, s1, s2, sal):\n",
        "    self.s1 = s1\n",
        "    self.s2 = s2\n",
        "    self.sal = sal\n",
        "  def do_work (self):\n",
        "    print(self.s1-self.s2)\n",
        "  def take_salary(self, x):\n",
        "    print(self.sal+x)"
      ],
      "metadata": {
        "id": "UO7IFM9Vxq_Q"
      },
      "execution_count": 164,
      "outputs": []
    },
    {
      "cell_type": "code",
      "source": [
        "Bob = Lupa (30, 20, 5)\n",
        "Bob.do_work()\n",
        "Bob.give_salary(10)"
      ],
      "metadata": {
        "colab": {
          "base_uri": "https://localhost:8080/"
        },
        "id": "KuYtQ_sI3Z6I",
        "outputId": "926661b2-88b7-4e1f-d91e-b0a45e6200fa"
      },
      "execution_count": 165,
      "outputs": [
        {
          "output_type": "stream",
          "name": "stdout",
          "text": [
            "10\n",
            "15\n"
          ]
        }
      ]
    }
  ]
}