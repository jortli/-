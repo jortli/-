{
  "nbformat": 4,
  "nbformat_minor": 0,
  "metadata": {
    "colab": {
      "provenance": []
    },
    "kernelspec": {
      "name": "python3",
      "display_name": "Python 3"
    },
    "language_info": {
      "name": "python"
    }
  },
  "cells": [
    {
      "cell_type": "markdown",
      "source": [
        "Задание 1"
      ],
      "metadata": {
        "id": "DmJxZ6rcOPj3"
      }
    },
    {
      "cell_type": "code",
      "source": [
        "def temperature (x):\n",
        "  if x<15.5 or x>28:\n",
        "    if x<15.5:\n",
        "      print (\"ХОЛОДНО\")\n",
        "    if x>28:\n",
        "      print (\"ЖАРКО\")\n",
        "  else:\n",
        "    print (\"НОРМАЛЬНО\")\n",
        "temperature (19)"
      ],
      "metadata": {
        "colab": {
          "base_uri": "https://localhost:8080/"
        },
        "id": "rrM1m8RKOVoh",
        "outputId": "c73d3f39-935f-4d19-bdd9-a2b7a7660655"
      },
      "execution_count": 13,
      "outputs": [
        {
          "output_type": "stream",
          "name": "stdout",
          "text": [
            "НОРМАЛЬНО\n"
          ]
        }
      ]
    },
    {
      "cell_type": "markdown",
      "source": [
        "Задание 2"
      ],
      "metadata": {
        "id": "VMMoaQAQTI2n"
      }
    },
    {
      "cell_type": "code",
      "source": [
        "a = 3\n",
        "b = 'пёс'\n",
        "c = 'котопёс'\n",
        "d = 'ребро'\n",
        "if 'кот' in b or 'Кот' in b or 'кот' in c or 'Кот' in c or 'кот' in d or 'Кот' in d:\n",
        "  print ('МЯУ')\n",
        "else:\n",
        "  print ('НЕТ')"
      ],
      "metadata": {
        "colab": {
          "base_uri": "https://localhost:8080/"
        },
        "id": "kG2z2K2FpnHn",
        "outputId": "69c846dc-2e80-46e0-bc91-3ad3369f2c32"
      },
      "execution_count": 49,
      "outputs": [
        {
          "output_type": "stream",
          "name": "stdout",
          "text": [
            "МЯУ\n"
          ]
        }
      ]
    },
    {
      "cell_type": "markdown",
      "source": [
        "Задание 4"
      ],
      "metadata": {
        "id": "D4gZUYUTXtYR"
      }
    },
    {
      "cell_type": "code",
      "source": [
        "3\n",
        "print (\"\"\"молоко\n",
        "хлеб\n",
        "оливковое масло\"\"\")"
      ],
      "metadata": {
        "colab": {
          "base_uri": "https://localhost:8080/"
        },
        "id": "Qya3XFd5XoTn",
        "outputId": "4f928476-27ee-459f-9e3a-dae622e7a4c4"
      },
      "execution_count": 9,
      "outputs": [
        {
          "output_type": "stream",
          "name": "stdout",
          "text": [
            "молоко\n",
            "хлеб\n",
            "оливковое масло\n"
          ]
        }
      ]
    },
    {
      "cell_type": "markdown",
      "source": [
        "Задание 5"
      ],
      "metadata": {
        "id": "1i7z01r9yinN"
      }
    },
    {
      "cell_type": "code",
      "source": [
        "s = 'холодно'\n",
        "s[0] + s[0] + s[1] + s[1] + s[2] + s[2] + s[3] + s[3] + s[4] + s[4] + s[5] + s[5] + s[6] + s[6]"
      ],
      "metadata": {
        "colab": {
          "base_uri": "https://localhost:8080/",
          "height": 36
        },
        "id": "ywkG_TT5ylnr",
        "outputId": "6bcb6241-5cc6-4a5b-fbcb-4f03ef93c98f"
      },
      "execution_count": 64,
      "outputs": [
        {
          "output_type": "execute_result",
          "data": {
            "text/plain": [
              "'ххооллоодднноо'"
            ],
            "application/vnd.google.colaboratory.intrinsic+json": {
              "type": "string"
            }
          },
          "metadata": {},
          "execution_count": 64
        }
      ]
    },
    {
      "cell_type": "markdown",
      "source": [
        "Задание 6"
      ],
      "metadata": {
        "id": "zs_TyONWdt2x"
      }
    },
    {
      "cell_type": "code",
      "source": [
        "def greet (name,\n",
        "           *args):\n",
        "    s = \" \".join((name,) + args)\n",
        "    return f\"Здравствуйте, {s}.\"\n",
        "print (greet ('Лидия',\n",
        "              'Иордан'))"
      ],
      "metadata": {
        "colab": {
          "base_uri": "https://localhost:8080/"
        },
        "id": "WjsFM2osds3X",
        "outputId": "b0c58494-d5eb-4433-d6fc-613e8dcaa3aa"
      },
      "execution_count": 1,
      "outputs": [
        {
          "output_type": "stream",
          "name": "stdout",
          "text": [
            "Здравствуйте, Лидия Иордан.\n"
          ]
        }
      ]
    },
    {
      "cell_type": "markdown",
      "source": [
        "Задание 8"
      ],
      "metadata": {
        "id": "OK8L0L1KbJPo"
      }
    },
    {
      "cell_type": "markdown",
      "source": [
        "Опыт программирования в phyton совсем небольшой: при обучении на экономике проводили анализ данных  в основном с помощью pandas. В домашнем задании наибоьшую трудность вызвали несделанные задания."
      ],
      "metadata": {
        "id": "u8E-Wc3kZpfm"
      }
    }
  ]
}